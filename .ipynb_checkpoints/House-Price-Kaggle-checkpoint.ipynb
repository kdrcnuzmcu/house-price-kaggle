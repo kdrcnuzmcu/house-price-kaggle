{
 "cells": [
  {
   "cell_type": "markdown",
   "id": "46d68345",
   "metadata": {},
   "source": [
    "#### Gerekli Kütüphaneler"
   ]
  },
  {
   "cell_type": "code",
   "execution_count": 1,
   "id": "e98a1ccd",
   "metadata": {},
   "outputs": [],
   "source": [
    "import numpy as np\n",
    "import pandas as pd\n",
    "import matplotlib.pyplot as plt\n",
    "import seaborn as sns\n",
    "import missingno as msno\n",
    "from typing import Optional\n",
    "    \n",
    "from lightgbm import LGBMRegressor\n",
    "from lightgbm import plot_importance\n",
    "\n",
    "from xgboost import XGBRegressor\n",
    "from catboost import CatBoostRegressor\n",
    "from prophet import Prophet\n",
    "\n",
    "from sklearn.linear_model import LinearRegression\n",
    "from sklearn.linear_model import Ridge\n",
    "\n",
    "from sklearn.model_selection import train_test_split\n",
    "from sklearn.model_selection import TimeSeriesSplit\n",
    "from sklearn.model_selection import cross_val_score\n",
    "from sklearn.model_selection import GridSearchCV\n",
    "from sklearn.model_selection import RandomizedSearchCV\n",
    "\n",
    "from sklearn.metrics import mean_absolute_percentage_error\n",
    "from sklearn.metrics import mean_squared_error \n",
    "from sklearn.metrics import mean_absolute_error\n",
    "from sklearn.metrics import make_scorer\n",
    "\n",
    "from sklearn.preprocessing import RobustScaler\n",
    "from sklearn.preprocessing import MinMaxScaler\n",
    "from sklearn.preprocessing import StandardScaler\n",
    "\n",
    "from sklearn.cluster import KMeans"
   ]
  },
  {
   "cell_type": "markdown",
   "id": "14951104",
   "metadata": {},
   "source": [
    "- Pandas ayarlar"
   ]
  },
  {
   "cell_type": "code",
   "execution_count": 2,
   "id": "0ca7b36d",
   "metadata": {},
   "outputs": [],
   "source": [
    "pd.set_option(\"display.max_columns\", None)\n",
    "pd.set_option(\"display.max_rows\", None)"
   ]
  },
  {
   "cell_type": "markdown",
   "id": "e60c379d",
   "metadata": {},
   "source": [
    "#### Veri setlerini yükleme"
   ]
  },
  {
   "cell_type": "code",
   "execution_count": 3,
   "id": "7bff569f",
   "metadata": {},
   "outputs": [],
   "source": [
    "train = pd.read_csv(\"train.csv\")\n",
    "test = pd.read_csv(\"test.csv\")\n",
    "sample_submission = pd.read_csv(\"sample_submission.csv\")"
   ]
  },
  {
   "cell_type": "markdown",
   "id": "9cda6b23",
   "metadata": {},
   "source": [
    "#### Veriyi inceleme"
   ]
  },
  {
   "cell_type": "code",
   "execution_count": null,
   "id": "be42f328",
   "metadata": {},
   "outputs": [],
   "source": [
    "train.head()"
   ]
  },
  {
   "cell_type": "code",
   "execution_count": null,
   "id": "13f34ceb",
   "metadata": {},
   "outputs": [],
   "source": [
    "train.describe().T"
   ]
  },
  {
   "cell_type": "markdown",
   "id": "8e2d6bea",
   "metadata": {},
   "source": [
    "- Fonksiyon tanımlamaları"
   ]
  },
  {
   "cell_type": "code",
   "execution_count": 4,
   "id": "79907bfe",
   "metadata": {},
   "outputs": [],
   "source": [
    "# Verisetinin değişkenlerini tespit etme                                                                                     \n",
    "def grab_col_names(df, cat_th=10, car_th=20):\n",
    "\n",
    "    # Categorical Columns\n",
    "    cat_cols = [col for col in df.columns if df[col].dtypes == \"O\"]\n",
    "    num_but_cat = [col for col in df.columns if df[col].nunique() < cat_th and df[col].dtypes != \"O\"]\n",
    "    cat_but_car = [col for col in df.columns if df[col].nunique() > car_th and df[col].dtypes == \"O\"]\n",
    "    cat_cols = cat_cols + num_but_cat\n",
    "    cat_cols = [col for col in cat_cols if col not in cat_but_car]\n",
    "\n",
    "    # Numerical Columns\n",
    "    num_cols = [col for col in df.columns if df[col].dtypes != \"O\"]\n",
    "    num_cols = [col for col in num_cols if col not in num_but_cat]\n",
    "\n",
    "    # Results\n",
    "    print(f\"Observations: {df.shape[0]}\")\n",
    "    print(f\"Variables: {df.shape[1]}\")\n",
    "    print(f'cat_cols: {len(cat_cols)}')\n",
    "    print(f'num_cols: {len(num_cols)}')\n",
    "    print(f'cat_but_car: {len(cat_but_car)}')\n",
    "    print(f'num_but_cat: {len(num_but_cat)}')\n",
    "\n",
    "    return cat_cols, cat_but_car, num_cols    "
   ]
  },
  {
   "cell_type": "code",
   "execution_count": 5,
   "id": "63ed3b48",
   "metadata": {},
   "outputs": [],
   "source": [
    "# Kategorik değişken analizi                              \n",
    "def categorical_value_counts(df, col, target, rare: Optional[float]=None):   \n",
    "    temp = df.groupby(col).agg(Count = (col, lambda x:x.count()), \\\n",
    "                          Ratio = (col, lambda x:x.count() / len(df)), \\\n",
    "                          Target_Ratio = (target, lambda x:x.sum() / df[target].sum())) \\\n",
    "                          .sort_values(\"Count\", ascending = False).reset_index()\n",
    "    \n",
    "    if rare is not None:\n",
    "        rares = temp.loc[temp[\"Ratio\"] <= float(rare), col].tolist()\n",
    "        df.loc[df[col].isin(rares), col] = \"Rare Category\"\n",
    "        print(\"---- Done! --- \")\n",
    "        print(df.groupby(col).agg(Count = (col, lambda x:x.count()), \\\n",
    "                          Ratio = (col, lambda x:x.count() / len(df)), \\\n",
    "                          Target_Ratio = (target, lambda x:x.sum() / df[target].sum())) \\\n",
    "                          .sort_values(\"Count\", ascending = False).reset_index(), \"\\n\")\n",
    "    else:\n",
    "        print(temp, \"\\n\")"
   ]
  },
  {
   "cell_type": "code",
   "execution_count": 6,
   "id": "ab15e06a",
   "metadata": {},
   "outputs": [],
   "source": [
    "def outliers(df, col, low_Quantile = 0.25, high_Quantile = 0.75, adjust = False):  \n",
    "    Q1 = df[col].quantile(low_Quantile)\n",
    "    Q3 = df[col].quantile(high_Quantile)\n",
    "    IQR = Q3 - Q1\n",
    "    low_Limit = Q1 - (1.5 * IQR)\n",
    "    up_Limit = Q3 + (1.5 * IQR)\n",
    "    \n",
    "    if len(df[df[col] > up_Limit]) > 0:\n",
    "        print(col, \": Higher Outlier!\")\n",
    "    if len(df[df[col] < low_Limit]) > 0:\n",
    "        print(col, \": Lower Outlier!\")\n",
    "        \n",
    "    if adjust:\n",
    "        df.loc[(df[col] < low_Limit), col] = low_Limit\n",
    "        df.loc[(df[col] > up_Limit), col] = up_Limit\n",
    "        print(col, \": Done!\")"
   ]
  },
  {
   "cell_type": "code",
   "execution_count": 7,
   "id": "5e75b5a0",
   "metadata": {},
   "outputs": [
    {
     "name": "stdout",
     "output_type": "stream",
     "text": [
      "Observations: 1460\n",
      "Variables: 81\n",
      "cat_cols: 53\n",
      "num_cols: 27\n",
      "cat_but_car: 1\n",
      "num_but_cat: 11\n"
     ]
    }
   ],
   "source": [
    "cat_cols, cat_but_car, num_cols = grab_col_names(train)"
   ]
  },
  {
   "cell_type": "code",
   "execution_count": null,
   "id": "e0614359",
   "metadata": {},
   "outputs": [],
   "source": [
    "for col in cat_cols:\n",
    "    categorical_value_counts(train, col, \"SalePrice\")"
   ]
  },
  {
   "cell_type": "code",
   "execution_count": null,
   "id": "4f3bf9f3",
   "metadata": {},
   "outputs": [],
   "source": [
    "categorical_value_counts(train, \"MSZoning\", \"SalePrice\", 0.05)\n",
    "# Street\n",
    "categorical_value_counts(train, \"Alley\", \"SalePrice\", 0.05)\n",
    "categorical_value_counts(train, \"LotShape\", \"SalePrice\", 0.05)\n",
    "categorical_value_counts(train, \"LandContour\", \"SalePrice\", 0.05)\n",
    "#Utilities\n",
    "categorical_value_counts(train, \"LotConfig\", \"SalePrice\", 0.05)\n",
    "categorical_value_counts(train, \"LandSlope\", \"SalePrice\", 0.05)\n",
    "categorical_value_counts(train, \"Condition1\", \"SalePrice\", 0.06)\n",
    "categorical_value_counts(train, \"Condition2\", \"SalePrice\", 0.05)\n",
    "categorical_value_counts(train, \"BldgType\", \"SalePrice\", 0.07)\n",
    "categorical_value_counts(train, \"HouseStyle\", \"SalePrice\", 0.05)\n",
    "categorical_value_counts(train, \"RoofStyle\", \"SalePrice\", 0.05)\n",
    "categorical_value_counts(train, \"RoofMatl\", \"SalePrice\", 0.05)\n",
    "categorical_value_counts(train, \"Exterior1st\", \"SalePrice\", 0.05)\n",
    "categorical_value_counts(train, \"Exterior2nd\", \"SalePrice\", 0.05)\n",
    "#MasVnrType\n",
    "categorical_value_counts(train, \"ExterQual\", \"SalePrice\", 0.05)\n",
    "categorical_value_counts(train, \"ExterCond\", \"SalePrice\", 0.05)\n",
    "categorical_value_counts(train, \"Foundation\", \"SalePrice\", 0.05)\n",
    "categorical_value_counts(train, \"BsmtQual\", \"SalePrice\", 0.05)\n",
    "categorical_value_counts(train, \"BsmtCond\", \"SalePrice\", 0.05)\n",
    "#BsmtExposure\n",
    "#BsmtFinType1\n",
    "categorical_value_counts(train, \"BsmtFinType2\", \"SalePrice\", 0.05)\n",
    "categorical_value_counts(train, \"Heating\", \"SalePrice\", 0.05)\n",
    "categorical_value_counts(train, \"HeatingQC\", \"SalePrice\", 0.05)\n",
    "#CentralAir\n",
    "categorical_value_counts(train, \"Electrical\", \"SalePrice\", 0.1)\n",
    "#KitchenQual\n",
    "categorical_value_counts(train, \"Functional\", \"SalePrice\", 0.05)\n",
    "categorical_value_counts(train, \"FireplaceQu\", \"SalePrice\", 0.05)\n",
    "categorical_value_counts(train, \"GarageType\", \"SalePrice\", 0.1)\n",
    "#GarageFinish\n",
    "categorical_value_counts(train, \"GarageQual\", \"SalePrice\", 0.05)\n",
    "categorical_value_counts(train, \"GarageCond\", \"SalePrice\", 0.05)\n",
    "categorical_value_counts(train, \"PavedDrive\", \"SalePrice\", 0.1)\n",
    "categorical_value_counts(train, \"PoolQC\", \"SalePrice\", 0.05)\n",
    "categorical_value_counts(train, \"Fence\", \"SalePrice\", 0.05)\n",
    "categorical_value_counts(train, \"MiscFeature\", \"SalePrice\", 0.05)\n",
    "categorical_value_counts(train, \"SaleType\", \"SalePrice\", 0.05)\n",
    "categorical_value_counts(train, \"SaleCondition\", \"SalePrice\", 0.05)\n",
    "#OverallCond\n",
    "categorical_value_counts(train, \"BsmtFullBath\", \"SalePrice\", 0.05)\n",
    "categorical_value_counts(train, \"BsmtHalfBath\", \"SalePrice\", 0.06)\n",
    "categorical_value_counts(train, \"FullBath\", \"SalePrice\", 0.05)\n",
    "#HalfBath\n",
    "categorical_value_counts(train, \"Alley\", \"SalePrice\", 0.05)\n",
    "#BedroomAbvGr\n",
    "#KitchenAbvGr\n",
    "#Fireplaces\n",
    "#GarageCars\n",
    "#PoolArea\n",
    "#YrSold"
   ]
  },
  {
   "cell_type": "code",
   "execution_count": 8,
   "id": "a2707501",
   "metadata": {
    "scrolled": true
   },
   "outputs": [
    {
     "data": {
      "text/plain": [
       "Id                  0\n",
       "MSSubClass          0\n",
       "MSZoning            0\n",
       "LotFrontage       259\n",
       "LotArea             0\n",
       "Street              0\n",
       "Alley            1369\n",
       "LotShape            0\n",
       "LandContour         0\n",
       "Utilities           0\n",
       "LotConfig           0\n",
       "LandSlope           0\n",
       "Neighborhood        0\n",
       "Condition1          0\n",
       "Condition2          0\n",
       "BldgType            0\n",
       "HouseStyle          0\n",
       "OverallQual         0\n",
       "OverallCond         0\n",
       "YearBuilt           0\n",
       "YearRemodAdd        0\n",
       "RoofStyle           0\n",
       "RoofMatl            0\n",
       "Exterior1st         0\n",
       "Exterior2nd         0\n",
       "MasVnrType          8\n",
       "MasVnrArea          8\n",
       "ExterQual           0\n",
       "ExterCond           0\n",
       "Foundation          0\n",
       "BsmtQual           37\n",
       "BsmtCond           37\n",
       "BsmtExposure       38\n",
       "BsmtFinType1       37\n",
       "BsmtFinSF1          0\n",
       "BsmtFinType2       38\n",
       "BsmtFinSF2          0\n",
       "BsmtUnfSF           0\n",
       "TotalBsmtSF         0\n",
       "Heating             0\n",
       "HeatingQC           0\n",
       "CentralAir          0\n",
       "Electrical          1\n",
       "1stFlrSF            0\n",
       "2ndFlrSF            0\n",
       "LowQualFinSF        0\n",
       "GrLivArea           0\n",
       "BsmtFullBath        0\n",
       "BsmtHalfBath        0\n",
       "FullBath            0\n",
       "HalfBath            0\n",
       "BedroomAbvGr        0\n",
       "KitchenAbvGr        0\n",
       "KitchenQual         0\n",
       "TotRmsAbvGrd        0\n",
       "Functional          0\n",
       "Fireplaces          0\n",
       "FireplaceQu       690\n",
       "GarageType         81\n",
       "GarageYrBlt        81\n",
       "GarageFinish       81\n",
       "GarageCars          0\n",
       "GarageArea          0\n",
       "GarageQual         81\n",
       "GarageCond         81\n",
       "PavedDrive          0\n",
       "WoodDeckSF          0\n",
       "OpenPorchSF         0\n",
       "EnclosedPorch       0\n",
       "3SsnPorch           0\n",
       "ScreenPorch         0\n",
       "PoolArea            0\n",
       "PoolQC           1453\n",
       "Fence            1179\n",
       "MiscFeature      1406\n",
       "MiscVal             0\n",
       "MoSold              0\n",
       "YrSold              0\n",
       "SaleType            0\n",
       "SaleCondition       0\n",
       "SalePrice           0\n",
       "dtype: int64"
      ]
     },
     "execution_count": 8,
     "metadata": {},
     "output_type": "execute_result"
    }
   ],
   "source": [
    "train.isnull().sum()"
   ]
  },
  {
   "cell_type": "code",
   "execution_count": 9,
   "id": "81ec736e",
   "metadata": {
    "collapsed": true
   },
   "outputs": [
    {
     "name": "stdout",
     "output_type": "stream",
     "text": [
      "<class 'pandas.core.frame.DataFrame'>\n",
      "RangeIndex: 1460 entries, 0 to 1459\n",
      "Data columns (total 81 columns):\n",
      " #   Column         Non-Null Count  Dtype  \n",
      "---  ------         --------------  -----  \n",
      " 0   Id             1460 non-null   int64  \n",
      " 1   MSSubClass     1460 non-null   int64  \n",
      " 2   MSZoning       1460 non-null   object \n",
      " 3   LotFrontage    1201 non-null   float64\n",
      " 4   LotArea        1460 non-null   int64  \n",
      " 5   Street         1460 non-null   object \n",
      " 6   Alley          91 non-null     object \n",
      " 7   LotShape       1460 non-null   object \n",
      " 8   LandContour    1460 non-null   object \n",
      " 9   Utilities      1460 non-null   object \n",
      " 10  LotConfig      1460 non-null   object \n",
      " 11  LandSlope      1460 non-null   object \n",
      " 12  Neighborhood   1460 non-null   object \n",
      " 13  Condition1     1460 non-null   object \n",
      " 14  Condition2     1460 non-null   object \n",
      " 15  BldgType       1460 non-null   object \n",
      " 16  HouseStyle     1460 non-null   object \n",
      " 17  OverallQual    1460 non-null   int64  \n",
      " 18  OverallCond    1460 non-null   int64  \n",
      " 19  YearBuilt      1460 non-null   int64  \n",
      " 20  YearRemodAdd   1460 non-null   int64  \n",
      " 21  RoofStyle      1460 non-null   object \n",
      " 22  RoofMatl       1460 non-null   object \n",
      " 23  Exterior1st    1460 non-null   object \n",
      " 24  Exterior2nd    1460 non-null   object \n",
      " 25  MasVnrType     1452 non-null   object \n",
      " 26  MasVnrArea     1452 non-null   float64\n",
      " 27  ExterQual      1460 non-null   object \n",
      " 28  ExterCond      1460 non-null   object \n",
      " 29  Foundation     1460 non-null   object \n",
      " 30  BsmtQual       1423 non-null   object \n",
      " 31  BsmtCond       1423 non-null   object \n",
      " 32  BsmtExposure   1422 non-null   object \n",
      " 33  BsmtFinType1   1423 non-null   object \n",
      " 34  BsmtFinSF1     1460 non-null   int64  \n",
      " 35  BsmtFinType2   1422 non-null   object \n",
      " 36  BsmtFinSF2     1460 non-null   int64  \n",
      " 37  BsmtUnfSF      1460 non-null   int64  \n",
      " 38  TotalBsmtSF    1460 non-null   int64  \n",
      " 39  Heating        1460 non-null   object \n",
      " 40  HeatingQC      1460 non-null   object \n",
      " 41  CentralAir     1460 non-null   object \n",
      " 42  Electrical     1459 non-null   object \n",
      " 43  1stFlrSF       1460 non-null   int64  \n",
      " 44  2ndFlrSF       1460 non-null   int64  \n",
      " 45  LowQualFinSF   1460 non-null   int64  \n",
      " 46  GrLivArea      1460 non-null   int64  \n",
      " 47  BsmtFullBath   1460 non-null   int64  \n",
      " 48  BsmtHalfBath   1460 non-null   int64  \n",
      " 49  FullBath       1460 non-null   int64  \n",
      " 50  HalfBath       1460 non-null   int64  \n",
      " 51  BedroomAbvGr   1460 non-null   int64  \n",
      " 52  KitchenAbvGr   1460 non-null   int64  \n",
      " 53  KitchenQual    1460 non-null   object \n",
      " 54  TotRmsAbvGrd   1460 non-null   int64  \n",
      " 55  Functional     1460 non-null   object \n",
      " 56  Fireplaces     1460 non-null   int64  \n",
      " 57  FireplaceQu    770 non-null    object \n",
      " 58  GarageType     1379 non-null   object \n",
      " 59  GarageYrBlt    1379 non-null   float64\n",
      " 60  GarageFinish   1379 non-null   object \n",
      " 61  GarageCars     1460 non-null   int64  \n",
      " 62  GarageArea     1460 non-null   int64  \n",
      " 63  GarageQual     1379 non-null   object \n",
      " 64  GarageCond     1379 non-null   object \n",
      " 65  PavedDrive     1460 non-null   object \n",
      " 66  WoodDeckSF     1460 non-null   int64  \n",
      " 67  OpenPorchSF    1460 non-null   int64  \n",
      " 68  EnclosedPorch  1460 non-null   int64  \n",
      " 69  3SsnPorch      1460 non-null   int64  \n",
      " 70  ScreenPorch    1460 non-null   int64  \n",
      " 71  PoolArea       1460 non-null   int64  \n",
      " 72  PoolQC         7 non-null      object \n",
      " 73  Fence          281 non-null    object \n",
      " 74  MiscFeature    54 non-null     object \n",
      " 75  MiscVal        1460 non-null   int64  \n",
      " 76  MoSold         1460 non-null   int64  \n",
      " 77  YrSold         1460 non-null   int64  \n",
      " 78  SaleType       1460 non-null   object \n",
      " 79  SaleCondition  1460 non-null   object \n",
      " 80  SalePrice      1460 non-null   int64  \n",
      "dtypes: float64(3), int64(35), object(43)\n",
      "memory usage: 924.0+ KB\n"
     ]
    }
   ],
   "source": [
    "train.info()"
   ]
  },
  {
   "cell_type": "code",
   "execution_count": null,
   "id": "4001c802",
   "metadata": {},
   "outputs": [],
   "source": [
    "RS = RobustScaler()\n",
    "train[\"LotFrontage\"] = RS.fit_transform(train[[\"LotFrontage\"]])\n",
    "train[\"LotFrontage\"] = train[\"LotFrontage\"].fillna(train[\"LotFrontage\"].mean())\n",
    "train[\"Alley\"] = train[\"Alley\"].fillna(\"Unknown\")\n",
    "train[\"BsmtQual\"] = train[\"BsmtQual\"].fillna(\"Unknown\")\n",
    "train[\"BsmtCond\"] = train[\"BsmtCond\"].fillna(\"TA\")\n",
    "train[\"BsmtExposure\"] = train[\"BsmtExposure\"].fillna(\"Unknown\")\n",
    "train[\"BsmtFinType1\"] = train[\"BsmtFinType1\"].fillna(\"Unknown\")\n",
    "train[\"BsmtFinType2\"] = train[\"BsmtFinType2\"].fillna(\"Unf\")\n",
    "train[\"Electrical\"] = train[\"Electrical\"].fillna(\"SBrkr\")\n",
    "train[\"FireplaceQu\"] = train[\"FireplaceQu\"].fillna(\"Unknown\")\n",
    "train[\"GarageType\"] = train[\"GarageType\"].fillna(\"Unknown\")"
   ]
  },
  {
   "cell_type": "code",
   "execution_count": 17,
   "id": "83841abf",
   "metadata": {},
   "outputs": [
    {
     "name": "stdout",
     "output_type": "stream",
     "text": [
      "  GarageType  Count     Ratio  Target_Ratio\n",
      "0     Attchd    870  0.595890      0.668257\n",
      "1     Detchd    387  0.265068      0.196458\n",
      "2    BuiltIn     88  0.060274      0.084871\n",
      "3    Basment     19  0.013014      0.011550\n",
      "4    CarPort      9  0.006164      0.003747\n",
      "5     2Types      6  0.004110      0.003436 \n",
      "\n"
     ]
    }
   ],
   "source": [
    "categorical_value_counts(train, \"GarageType\", \"SalePrice\")"
   ]
  },
  {
   "cell_type": "code",
   "execution_count": null,
   "id": "cc48a5a3",
   "metadata": {},
   "outputs": [],
   "source": [
    "train[\"GarageYrBlt\"].value_counts().reset_index().rename({\"\"})"
   ]
  },
  {
   "cell_type": "code",
   "execution_count": null,
   "id": "97534146",
   "metadata": {},
   "outputs": [],
   "source": [
    "train.reset_index()"
   ]
  },
  {
   "cell_type": "code",
   "execution_count": null,
   "id": "1662285e",
   "metadata": {},
   "outputs": [],
   "source": [
    "train[\"MasVnrArea\"] = train[\"MasVnrArea\"].fillna(0)"
   ]
  },
  {
   "cell_type": "code",
   "execution_count": null,
   "id": "ce924e93",
   "metadata": {},
   "outputs": [],
   "source": [
    "train[train[\"MasVnrArea\"].isnull()]"
   ]
  },
  {
   "cell_type": "code",
   "execution_count": null,
   "id": "453cf4a4",
   "metadata": {},
   "outputs": [],
   "source": [
    "y_train = train[\"SalePrice\"]\n",
    "X_train = train[[\"MSSubClass\", \"LotArea\", \"OverallQual\", \n",
    "                 \"OverallCond\", \"YearBuilt\", \"TotalBsmtSF\", \n",
    "                 \"1stFlrSF\", \"2ndFlrSF\", \"BsmtFullBath\", \n",
    "                 \"FullBath\", \"BedroomAbvGr\", \"KitchenAbvGr\", \"RoofStyle_Rare\",\n",
    "                 \"TotRmsAbvGrd\", \"GarageCars\", \"GarageYrBlt\", \"RoofStyle_Hip\",\n",
    "                  \"ScreenPorch\", \"YrSold\", \"LotFrontage\", \"MasVnrArea\",\n",
    "                 \"MiscVal\", \"3SsnPorch\", \"WoodDeckSF\", \"YearRemodAdd\",\n",
    "                 \"MoSold\", \"EnclosedPorch\", \"OpenPorchSF\", \"GarageArea\"]]"
   ]
  },
  {
   "cell_type": "code",
   "execution_count": null,
   "id": "f4ef486b",
   "metadata": {},
   "outputs": [],
   "source": [
    "CB_model = CatBoostRegressor(verbose=False)\n",
    "CB_model.fit(X_train, y_train)\n",
    "print(\"Train Score:\", CB_model.score(X_train, y_train))\n",
    "y_pred = CB_model.predict(X_train)\n",
    "print(\"MAPE:\", mean_absolute_percentage_error(y_train, y_pred))\n",
    "print(\"MAE:\", mean_absolute_error(y_train, y_pred))\n",
    "print(\"RMSE:\", np.sqrt(mean_squared_error(y_train, y_pred)))"
   ]
  },
  {
   "cell_type": "code",
   "execution_count": null,
   "id": "3078339f",
   "metadata": {},
   "outputs": [],
   "source": [
    "LGBM_model = LGBMRegressor()\n",
    "LGBM_model.fit(X_train, y_train)\n",
    "print(\"Train Score:\", LGBM_model.score(X_train, y_train))\n",
    "y_pred = LGBM_model.predict(X_train)\n",
    "print(\"MAPE:\", mean_absolute_percentage_error(y_train, y_pred))\n",
    "print(\"MAE:\", mean_absolute_error(y_train, y_pred))\n",
    "print(\"RMSE:\", np.sqrt(mean_squared_error(y_train, y_pred)))"
   ]
  },
  {
   "cell_type": "code",
   "execution_count": null,
   "id": "2dca8dfc",
   "metadata": {},
   "outputs": [],
   "source": [
    "RS = RobustScaler()\n",
    "test[\"LotFrontage\"] = RS.fit_transform(test[[\"LotFrontage\"]])"
   ]
  },
  {
   "cell_type": "code",
   "execution_count": null,
   "id": "cde341ab",
   "metadata": {},
   "outputs": [],
   "source": [
    "test[\"LotFrontage\"] = test[\"LotFrontage\"].fillna(test[\"LotFrontage\"].mean())"
   ]
  },
  {
   "cell_type": "code",
   "execution_count": null,
   "id": "533d346a",
   "metadata": {},
   "outputs": [],
   "source": [
    "test[\"MasVnrArea\"] = test[\"MasVnrArea\"].fillna(0)"
   ]
  },
  {
   "cell_type": "code",
   "execution_count": null,
   "id": "a3ba0e7f",
   "metadata": {},
   "outputs": [],
   "source": [
    "test[\"RoofStyle\"] = test[\"RoofStyle\"].apply(lambda x: \"Rare\" if x in [\"Shed\", \"Mansard\", \"Gambrel\", \"Flat\"] else x)\n",
    "test = pd.get_dummies(data=test, columns=[\"RoofStyle\"], drop_first=True)"
   ]
  },
  {
   "cell_type": "code",
   "execution_count": null,
   "id": "f0d36414",
   "metadata": {},
   "outputs": [],
   "source": [
    "test.isnull().sum()"
   ]
  },
  {
   "cell_type": "code",
   "execution_count": null,
   "id": "b1153a82",
   "metadata": {},
   "outputs": [],
   "source": [
    "#y_test = test[\"SalePrice\"]\n",
    "X_test = test[[\"MSSubClass\", \"LotArea\", \"OverallQual\", \n",
    "                 \"OverallCond\", \"YearBuilt\", \"TotalBsmtSF\", \n",
    "                 \"1stFlrSF\", \"2ndFlrSF\", \"BsmtFullBath\", \n",
    "                 \"FullBath\", \"BedroomAbvGr\", \"KitchenAbvGr\", \"RoofStyle_Rare\",\n",
    "                 \"TotRmsAbvGrd\", \"GarageCars\", \"GarageYrBlt\", \"RoofStyle_Hip\",\n",
    "                  \"ScreenPorch\", \"YrSold\", \"LotFrontage\", \"YearRemodAdd\",\n",
    "                 \"MiscVal\", \"3SsnPorch\", \"WoodDeckSF\", \"MasVnrArea\",\n",
    "                 \"MoSold\", \"EnclosedPorch\", \"OpenPorchSF\", \"GarageArea\"]]"
   ]
  },
  {
   "cell_type": "code",
   "execution_count": null,
   "id": "8980df1f",
   "metadata": {},
   "outputs": [],
   "source": [
    "y_pred_test = CB_model.predict(X_test)"
   ]
  },
  {
   "cell_type": "code",
   "execution_count": null,
   "id": "33eec1c6",
   "metadata": {},
   "outputs": [],
   "source": [
    "y_pred_test"
   ]
  },
  {
   "cell_type": "code",
   "execution_count": null,
   "id": "f8188918",
   "metadata": {},
   "outputs": [],
   "source": [
    "ID = test[\"Id\"]"
   ]
  },
  {
   "cell_type": "code",
   "execution_count": null,
   "id": "b408cd1d",
   "metadata": {},
   "outputs": [],
   "source": [
    "submission = pd.DataFrame({\"Id\": test[\"Id\"], \"SalePrice\": y_pred_test})"
   ]
  },
  {
   "cell_type": "code",
   "execution_count": null,
   "id": "1878af74",
   "metadata": {},
   "outputs": [],
   "source": [
    "submission.to_csv(\"pred3.csv\", index=False)"
   ]
  },
  {
   "cell_type": "code",
   "execution_count": null,
   "id": "a585828b",
   "metadata": {},
   "outputs": [],
   "source": [
    "test.head()"
   ]
  },
  {
   "cell_type": "code",
   "execution_count": null,
   "id": "bf385a89",
   "metadata": {},
   "outputs": [],
   "source": [
    "sample_submission"
   ]
  },
  {
   "cell_type": "code",
   "execution_count": null,
   "id": "f2c60201",
   "metadata": {},
   "outputs": [],
   "source": []
  },
  {
   "cell_type": "code",
   "execution_count": null,
   "id": "2dad566a",
   "metadata": {},
   "outputs": [],
   "source": [
    "LR = LinearRegression()\n",
    "LR.fit(X_train, y_train)\n",
    "print(\"Train Score:\", LR.score(X_train, y_train))\n",
    "y_pred = LR.predict(X_train)\n",
    "print(\"MAPE:\", mean_absolute_percentage_error(y_train, y_pred))\n",
    "print(\"MAE:\", mean_absolute_error(y_train, y_pred))\n",
    "print(\"RMSE:\", np.sqrt(mean_squared_error(y_train, y_pred)))\n",
    "#print(\"Test Score:\", LR.score(X_test_, y_test_))\n",
    "#y_pred_test = LR.predict(X_test_)\n",
    "#print(\"Test:\", mean_absolute_percentage_error(y_test_, y_pred_test))"
   ]
  },
  {
   "cell_type": "code",
   "execution_count": null,
   "id": "ce97a698",
   "metadata": {},
   "outputs": [],
   "source": []
  },
  {
   "cell_type": "code",
   "execution_count": null,
   "id": "9e8be5e8",
   "metadata": {},
   "outputs": [],
   "source": []
  },
  {
   "cell_type": "code",
   "execution_count": null,
   "id": "5be79878",
   "metadata": {},
   "outputs": [],
   "source": []
  }
 ],
 "metadata": {
  "kernelspec": {
   "display_name": "Python 3 (ipykernel)",
   "language": "python",
   "name": "python3"
  },
  "language_info": {
   "codemirror_mode": {
    "name": "ipython",
    "version": 3
   },
   "file_extension": ".py",
   "mimetype": "text/x-python",
   "name": "python",
   "nbconvert_exporter": "python",
   "pygments_lexer": "ipython3",
   "version": "3.9.13"
  }
 },
 "nbformat": 4,
 "nbformat_minor": 5
}
