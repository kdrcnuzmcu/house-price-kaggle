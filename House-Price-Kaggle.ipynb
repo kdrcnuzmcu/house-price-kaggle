{
 "cells": [
  {
   "cell_type": "markdown",
   "id": "868a4899",
   "metadata": {},
   "source": [
    "#### Gerekli Kütüphaneler"
   ]
  },
  {
   "cell_type": "code",
   "execution_count": 1,
   "id": "e98a1ccd",
   "metadata": {},
   "outputs": [],
   "source": [
    "import numpy as np\n",
    "import pandas as pd\n",
    "import matplotlib.pyplot as plt\n",
    "import seaborn as sns\n",
    "import missingno as msno\n",
    "from typing import Optional\n",
    "    \n",
    "from lightgbm import LGBMRegressor\n",
    "from lightgbm import plot_importance\n",
    "\n",
    "from xgboost import XGBRegressor\n",
    "from catboost import CatBoostRegressor\n",
    "\n",
    "from sklearn.linear_model import LinearRegression\n",
    "from sklearn.linear_model import Ridge\n",
    "\n",
    "from sklearn.model_selection import train_test_split\n",
    "from sklearn.model_selection import TimeSeriesSplit\n",
    "from sklearn.model_selection import cross_val_score\n",
    "from sklearn.model_selection import GridSearchCV\n",
    "from sklearn.model_selection import RandomizedSearchCV\n",
    "\n",
    "from sklearn.metrics import mean_absolute_percentage_error\n",
    "from sklearn.metrics import mean_squared_error \n",
    "from sklearn.metrics import mean_absolute_error\n",
    "from sklearn.metrics import make_scorer\n",
    "\n",
    "from sklearn.preprocessing import RobustScaler\n",
    "from sklearn.preprocessing import MinMaxScaler\n",
    "from sklearn.preprocessing import StandardScaler\n",
    "\n",
    "from sklearn.cluster import KMeans"
   ]
  },
  {
   "cell_type": "markdown",
   "id": "c2c460c3",
   "metadata": {},
   "source": [
    "- Pandas ayarlar"
   ]
  },
  {
   "cell_type": "code",
   "execution_count": 2,
   "id": "0ca7b36d",
   "metadata": {},
   "outputs": [],
   "source": [
    "pd.set_option(\"display.max_columns\", None)\n",
    "pd.set_option(\"display.max_rows\", None)"
   ]
  },
  {
   "cell_type": "markdown",
   "id": "eea25056",
   "metadata": {},
   "source": [
    "#### Veri setlerini yükleme"
   ]
  },
  {
   "cell_type": "code",
   "execution_count": 3,
   "id": "7bff569f",
   "metadata": {},
   "outputs": [],
   "source": [
    "train = pd.read_csv(\"train.csv\")\n",
    "test = pd.read_csv(\"test.csv\")\n",
    "sample_submission = pd.read_csv(\"sample_submission.csv\")"
   ]
  },
  {
   "cell_type": "markdown",
   "id": "cdbb1f00",
   "metadata": {},
   "source": [
    "#### Veriyi inceleme"
   ]
  },
  {
   "cell_type": "code",
   "execution_count": null,
   "id": "dc0f8931",
   "metadata": {},
   "outputs": [],
   "source": [
    "train.head()"
   ]
  },
  {
   "cell_type": "code",
   "execution_count": null,
   "id": "8d678cd7",
   "metadata": {},
   "outputs": [],
   "source": [
    "train.describe().T"
   ]
  },
  {
   "cell_type": "markdown",
   "id": "5c6e5ef2",
   "metadata": {},
   "source": [
    "- Fonksiyon tanımlamaları"
   ]
  },
  {
   "cell_type": "code",
   "execution_count": null,
   "id": "79907bfe",
   "metadata": {},
   "outputs": [],
   "source": [
    "# Verisetinin değişkenlerini tespit etme                                                                                     \n",
    "def grab_col_names(df, cat_th=10, car_th=20):\n",
    "\n",
    "    # Categorical Columns\n",
    "    cat_cols = [col for col in df.columns if df[col].dtypes == \"O\"]\n",
    "    num_but_cat = [col for col in df.columns if df[col].nunique() < cat_th and df[col].dtypes != \"O\"]\n",
    "    cat_but_car = [col for col in df.columns if df[col].nunique() > car_th and df[col].dtypes == \"O\"]\n",
    "    cat_cols = cat_cols + num_but_cat\n",
    "    cat_cols = [col for col in cat_cols if col not in cat_but_car]\n",
    "\n",
    "    # Numerical Columns\n",
    "    num_cols = [col for col in df.columns if df[col].dtypes != \"O\"]\n",
    "    num_cols = [col for col in num_cols if col not in num_but_cat]\n",
    "\n",
    "    # Results\n",
    "    print(f\"Observations: {df.shape[0]}\")\n",
    "    print(f\"Variables: {df.shape[1]}\")\n",
    "    print(f'cat_cols: {len(cat_cols)}')\n",
    "    print(f'num_cols: {len(num_cols)}')\n",
    "    print(f'cat_but_car: {len(cat_but_car)}')\n",
    "    print(f'num_but_cat: {len(num_but_cat)}')\n",
    "\n",
    "    return cat_cols, cat_but_car, num_cols    "
   ]
  },
  {
   "cell_type": "code",
   "execution_count": 4,
   "id": "63ed3b48",
   "metadata": {},
   "outputs": [],
   "source": [
    "# Kategorik değişken analizi                              \n",
    "def categorical_value_counts(df, col, target: None, rare: Optional[float] = None):\n",
    "    temp = df.groupby(col, dropna=False).agg(Count=(col, lambda x: x.isnull().count()), \\\n",
    "                               Ratio=(col, lambda x: x.isnull().count() / len(df)), \\\n",
    "                               Target_Ratio=(target, lambda x: x.sum() / df[target].sum())) \\\n",
    "        .sort_values(\"Count\", ascending=False).reset_index()\n",
    "\n",
    "    if rare is not None:\n",
    "        rares = temp.loc[temp[\"Ratio\"] <= float(rare), col].tolist()\n",
    "        df.loc[df[col].isin(rares), col] = \"Rare Category\"\n",
    "        print(\"---- Done! --- \")\n",
    "        temp = df.groupby(col).agg(Count=(col, lambda x: x.isnull().count()), \\\n",
    "                                  Ratio=(col, lambda x: x.count() / len(df)), \\\n",
    "                                  Target_Ratio=(target, lambda x: x.sum() / df[target].sum())) \\\n",
    "              .sort_values(\"Count\", ascending=False).reset_index()\n",
    "    return temp"
   ]
  },
  {
   "cell_type": "code",
   "execution_count": null,
   "id": "cf4468aa",
   "metadata": {},
   "outputs": [],
   "source": [
    "def outliers(df, col, low_Quantile=0.25, high_Quantile=0.75, adjust=False):\n",
    "    Q1 = df[col].quantile(low_Quantile)\n",
    "    Q3 = df[col].quantile(high_Quantile)\n",
    "    IQR = Q3 - Q1\n",
    "    low_Limit = Q1 - (1.5 * IQR)\n",
    "    up_Limit = Q3 + (1.5 * IQR)\n",
    "\n",
    "    if len(df[df[col] > up_Limit]) > 0:\n",
    "        print(col, \": Higher Outlier!\")\n",
    "    if len(df[df[col] < low_Limit]) > 0:\n",
    "        print(col, \": Lower Outlier!\")\n",
    "\n",
    "    if adjust:\n",
    "        df.loc[(df[col] < low_Limit), col] = low_Limit\n",
    "        df.loc[(df[col] > up_Limit), col] = up_Limit\n",
    "        print(col, \": Done!\")"
   ]
  },
  {
   "cell_type": "code",
   "execution_count": null,
   "id": "10ff86bc",
   "metadata": {},
   "outputs": [],
   "source": [
    "def on_isleme(col, navalue=None, rare=None, scale=None):\n",
    "    if train[col].dtype == \"int64\":\n",
    "        train[col] = train[col].fillna(navalue)\n",
    "        test[col] = train[col].fillna(navalue)\n",
    "        if scale == \"binary\":\n",
    "            train[col] = train[col].apply(lambda x: 0 if x == 0 else 1)\n",
    "            test[col] = test[col].apply(lambda x: 0 if x == 0 else 1)\n",
    "        else:\n",
    "            train[col] = scale.fit_transform(train[[col]])\n",
    "            test[col] = scale.fit_transform(test[[col]])\n",
    "    elif train[col].dtype == \"O\":\n",
    "        train[col] = train[col].fillna(navalue)\n",
    "        test[col] = test[col].fillna(navalue)\n",
    "        temp = categorical_value_counts(train, col, \"SalePrice\")\n",
    "        cats = temp[temp[\"Ratio\"] < rare][col]\n",
    "        train.loc[train[col].isin(cats), col] = \"RareCat\"\n",
    "        test.loc[test[col].isin(cats), col] = \"RareCat\""
   ]
  },
  {
   "cell_type": "code",
   "execution_count": null,
   "id": "81fc2886",
   "metadata": {},
   "outputs": [],
   "source": [
    "def plot_importance(model, features, num = 3):\n",
    "    mpl_style(dark=True)\n",
    "    feature_imp = pd.DataFrame({\"Value\": model.feature_importances_, \"Feature\": features.columns})\n",
    "    plt.figure(figsize=(10, 10))\n",
    "    sns.set(font_scale=1)\n",
    "    sns.barplot(x=\"Value\", y=\"Feature\", data=feature_imp.sort_values(by=\"Value\", ascending=False)[0:num])\n",
    "    plt.title(\"Features\")\n",
    "    plt.tight_layout()\n",
    "    plt.show()"
   ]
  },
  {
   "cell_type": "code",
   "execution_count": null,
   "id": "5e75b5a0",
   "metadata": {},
   "outputs": [],
   "source": [
    "train = train_.copy()\n",
    "test = test_.copy()\n",
    "cat_cols, cat_but_car, num_cols = grab_col_names(train)\n",
    "RS = RobustScaler()"
   ]
  },
  {
   "cell_type": "code",
   "execution_count": null,
   "id": "e0614359",
   "metadata": {},
   "outputs": [],
   "source": [
    "for col in cat_cols:\n",
    "    categorical_value_counts(train, col, \"SalePrice\")"
   ]
  },
  {
   "cell_type": "code",
   "execution_count": null,
   "id": "2486b92b",
   "metadata": {},
   "outputs": [],
   "source": [
    "train[\"MSSubClass\"] = RS.fit_transform(train[[\"MSSubClass\"]])\n",
    "train[\"LotFrontage\"] = RS.fit_transform(train[[\"LotFrontage\"]])\n",
    "train[\"LotFrontage\"] = train[\"LotFrontage\"].fillna(train[\"LotFrontage\"].mean())\n",
    "train[\"New_OverallQual\"] = pd.cut(train[\"OverallQual\"], bins=[-1, 5, 8, 11], labels=[0, 1, 2])\n",
    "train[\"New_OverallCond\"] = pd.cut(train[\"OverallCond\"], bins=[0, 5, 8, 10], labels=[0, 1, 2])\n",
    "train[\"New_YearBuilt\"] = pd.cut(train[\"YearBuilt\"], bins=[1871, 1943, 1990, 2011], labels=[0, 1, 2])\n",
    "train[\"New_YearRemodAdd\"] = pd.cut(train[\"YearRemodAdd\"], bins=[1949, 1990, 2011], labels=[0, 1])\n",
    "train[\"MasVnrType\"] = train[\"MasVnrType\"].fillna(\"None\")\n",
    "train[\"MasVnrArea\"] = train[\"MasVnrArea\"].fillna(0)\n",
    "train[\"MasVnrArea\"] = RS.fit_transform(train[[\"MasVnrArea\"]])\n",
    "train[\"BsmtFinSF1\"] = RS.fit_transform(train[[\"BsmtFinSF1\"]])\n",
    "train[\"BsmtFinSF2\"] = RS.fit_transform(train[[\"BsmtFinSF2\"]])\n",
    "train[\"BsmtUnfSF\"] = RS.fit_transform(train[[\"BsmtUnfSF\"]])\n",
    "train[\"2ndFlrSF\"] = train[\"2ndFlrSF\"].apply(lambda x: 0 if x == 0 else 1) \n",
    "train[\"LowQualFinSF\"] = train[\"LowQualFinSF\"].apply(lambda x: 0 if x == 0 else 1) \n",
    "train[\"LotArea\"] = RS.fit_transform(train[[\"LotArea\"]])\n",
    "train[\"Alley\"] = train[\"Alley\"].fillna(\"Unknown\")\n",
    "train[\"BsmtQual\"] = train[\"BsmtQual\"].fillna(\"Unknown\")\n",
    "train[\"BsmtCond\"] = train[\"BsmtCond\"].fillna(\"TA\")\n",
    "train[\"BsmtExposure\"] = train[\"BsmtExposure\"].fillna(\"Unknown\")\n",
    "train[\"BsmtFinType1\"] = train[\"BsmtFinType1\"].fillna(\"Unknown\")\n",
    "train[\"BsmtFinType2\"] = train[\"BsmtFinType2\"].fillna(\"Unf\")\n",
    "train[\"Electrical\"] = train[\"Electrical\"].fillna(\"SBrkr\")\n",
    "train[\"FireplaceQu\"] = train[\"FireplaceQu\"].fillna(\"Unknown\")\n",
    "train[\"GarageType\"] = train[\"GarageType\"].fillna(\"None\")\n",
    "train[\"GarageYrBlt\"] = train[\"GarageYrBlt\"].fillna(\"0\")\n",
    "train[\"GarageFinish\"] = train[\"GarageFinish\"].fillna(\"None\")\n",
    "train[\"GarageQual\"] = train[\"GarageQual\"].fillna(\"None\")\n",
    "train[\"GarageCond\"] = train[\"GarageCond\"].fillna(\"None\")\n",
    "train[\"PoolQC\"] = train[\"PoolQC\"].fillna(\"None\")\n",
    "train[\"Fence\"] = train[\"Fence\"].fillna(\"Unknown\")\n",
    "train[\"MiscFeature\"] = train[\"MiscFeature\"].fillna(\"None\")"
   ]
  },
  {
   "cell_type": "code",
   "execution_count": null,
   "id": "f01affaa",
   "metadata": {},
   "outputs": [],
   "source": [
    "categorical_value_counts(train, \"MSZoning\", \"SalePrice\", 0.05)\n",
    "# Street\n",
    "categorical_value_counts(train, \"Alley\", \"SalePrice\", 0.05)\n",
    "categorical_value_counts(train, \"LotShape\", \"SalePrice\", 0.05)\n",
    "categorical_value_counts(train, \"LandContour\", \"SalePrice\", 0.05)\n",
    "#Utilities\n",
    "categorical_value_counts(train, \"LotConfig\", \"SalePrice\", 0.05) # 0.07\n",
    "categorical_value_counts(train, \"LandSlope\", \"SalePrice\", 0.05)\n",
    "categorical_value_counts(train, \"Condition1\", \"SalePrice\", 0.06)\n",
    "categorical_value_counts(train, \"Condition2\", \"SalePrice\", 0.05)\n",
    "categorical_value_counts(train, \"BldgType\", \"SalePrice\", 0.07) # 0.09\n",
    "categorical_value_counts(train, \"HouseStyle\", \"SalePrice\", 0.05)\n",
    "categorical_value_counts(train, \"RoofStyle\", \"SalePrice\", 0.05)\n",
    "categorical_value_counts(train, \"RoofMatl\", \"SalePrice\", 0.05)\n",
    "categorical_value_counts(train, \"Exterior1st\", \"SalePrice\", 0.05)\n",
    "categorical_value_counts(train, \"Exterior2nd\", \"SalePrice\", 0.05)\n",
    "#MasVnrType\n",
    "categorical_value_counts(train, \"ExterQual\", \"SalePrice\", 0.05)\n",
    "categorical_value_counts(train, \"ExterCond\", \"SalePrice\", 0.05)\n",
    "categorical_value_counts(train, \"Foundation\", \"SalePrice\", 0.05)\n",
    "categorical_value_counts(train, \"BsmtQual\", \"SalePrice\", 0.05)\n",
    "categorical_value_counts(train, \"BsmtCond\", \"SalePrice\", 0.05)\n",
    "#BsmtExposure\n",
    "#BsmtFinType1\n",
    "categorical_value_counts(train, \"BsmtFinType2\", \"SalePrice\", 0.05)\n",
    "categorical_value_counts(train, \"Heating\", \"SalePrice\", 0.05)\n",
    "categorical_value_counts(train, \"HeatingQC\", \"SalePrice\", 0.05)\n",
    "#CentralAir\n",
    "categorical_value_counts(train, \"Electrical\", \"SalePrice\", 0.1)\n",
    "#KitchenQual\n",
    "categorical_value_counts(train, \"Functional\", \"SalePrice\", 0.05)\n",
    "categorical_value_counts(train, \"FireplaceQu\", \"SalePrice\", 0.05)\n",
    "categorical_value_counts(train, \"GarageType\", \"SalePrice\", 0.1)\n",
    "#GarageFinish\n",
    "categorical_value_counts(train, \"GarageQual\", \"SalePrice\", 0.05)\n",
    "categorical_value_counts(train, \"GarageCond\", \"SalePrice\", 0.05)\n",
    "categorical_value_counts(train, \"PavedDrive\", \"SalePrice\", 0.1)\n",
    "categorical_value_counts(train, \"PoolQC\", \"SalePrice\", 0.05)\n",
    "categorical_value_counts(train, \"Fence\", \"SalePrice\", 0.05)\n",
    "categorical_value_counts(train, \"MiscFeature\", \"SalePrice\", 0.05)\n",
    "categorical_value_counts(train, \"SaleType\", \"SalePrice\", 0.05)\n",
    "categorical_value_counts(train, \"SaleCondition\", \"SalePrice\", 0.05)\n",
    "#OverallCond\n",
    "categorical_value_counts(train, \"BsmtFullBath\", \"SalePrice\", 0.05)\n",
    "categorical_value_counts(train, \"BsmtHalfBath\", \"SalePrice\", 0.06)\n",
    "#categorical_value_counts(train, \"FullBath\", \"SalePrice\", 0.05)\n",
    "#HalfBath\n",
    "categorical_value_counts(train, \"Alley\", \"SalePrice\", 0.05)\n",
    "#BedroomAbvGr\n",
    "#KitchenAbvGr\n",
    "#Fireplaces\n",
    "#GarageCars\n",
    "#PoolArea\n",
    "#YrSold"
   ]
  },
  {
   "cell_type": "code",
   "execution_count": null,
   "id": "62f4939e",
   "metadata": {},
   "outputs": [],
   "source": [
    "col = \"LotFrontage\"\n",
    "print(\"Min:\", train[col].min())\n",
    "print(\"Max:\", train[col].max())\n",
    "print(\"Null Count:\", train[col].isnull().sum())\n",
    "print(\"Mean:\", train[col].mean())\n",
    "plt.ylim(-10, 1500)\n",
    "plt.hist(train[col], bins=50);"
   ]
  },
  {
   "cell_type": "code",
   "execution_count": null,
   "id": "6d1ad93d",
   "metadata": {},
   "outputs": [],
   "source": [
    "dummied1=pd.get_dummies(data=train, \n",
    "               columns=[\"MSZoning\", \"Street\", \"Alley\", \n",
    "                        \"LotShape\", \"LandContour\", \"Utilities\", \n",
    "                        \"LotConfig\", \"LandSlope\", \"Neighborhood\", \n",
    "                        \"Condition1\", \"Condition2\", \"BldgType\", \n",
    "                        \"HouseStyle\", \"RoofStyle\", \"RoofMatl\", \n",
    "                        \"Exterior1st\", \"Exterior2nd\", \"MasVnrType\", \n",
    "                        \"ExterQual\", \"ExterCond\", \"Foundation\", \n",
    "                        \"BsmtQual\", \"BsmtCond\", \"BsmtExposure\", \n",
    "                        \"BsmtFinType1\", \"BsmtFinType2\", \"Heating\", \n",
    "                        \"HeatingQC\", \"CentralAir\", \"Electrical\", \n",
    "                        \"BsmtHalfBath\", \"KitchenQual\", \"Functional\", \n",
    "                        \"FireplaceQu\", \"GarageType\", \"GarageFinish\", \n",
    "                        \"GarageQual\", \"GarageCond\", \"PavedDrive\", \n",
    "                        \"PoolQC\", \"Fence\", \"MiscFeature\", \n",
    "                        \"SaleType\", \"SaleCondition\"],\n",
    "              drop_first=True)"
   ]
  },
  {
   "cell_type": "code",
   "execution_count": null,
   "id": "1fe710c8",
   "metadata": {},
   "outputs": [],
   "source": [
    "X_train = dummied1.drop(\"SalePrice\", axis=1)\n",
    "y_train = dummied1[\"SalePrice\"]"
   ]
  },
  {
   "cell_type": "code",
   "execution_count": null,
   "id": "f4ef486b",
   "metadata": {
    "scrolled": true
   },
   "outputs": [],
   "source": [
    "CB_model = CatBoostRegressor(verbose=False)\n",
    "CB_model.fit(X_train, y_train)\n",
    "print(\"Train Score:\", CB_model.score(X_train, y_train))\n",
    "y_pred = CB_model.predict(X_train)\n",
    "print(\"MAPE:\", mean_absolute_percentage_error(y_train, y_pred))\n",
    "print(\"MAE:\", mean_absolute_error(y_train, y_pred))\n",
    "print(\"RMSE:\", np.sqrt(mean_squared_error(y_train, y_pred)))"
   ]
  },
  {
   "cell_type": "code",
   "execution_count": null,
   "id": "3078339f",
   "metadata": {},
   "outputs": [],
   "source": [
    "LGBM_model = LGBMRegressor()\n",
    "LGBM_model.fit(X_train, y_train)\n",
    "print(\"Train Score:\", LGBM_model.score(X_train, y_train))\n",
    "y_pred = LGBM_model.predict(X_train)\n",
    "print(\"MAPE:\", mean_absolute_percentage_error(y_train, y_pred))\n",
    "print(\"MAE:\", mean_absolute_error(y_train, y_pred))\n",
    "print(\"RMSE:\", np.sqrt(mean_squared_error(y_train, y_pred)))"
   ]
  },
  {
   "cell_type": "code",
   "execution_count": null,
   "id": "2dad566a",
   "metadata": {},
   "outputs": [],
   "source": [
    "LR = LinearRegression()\n",
    "LR.fit(X_train, y_train)\n",
    "print(\"Train Score:\", LR.score(X_train, y_train))\n",
    "y_pred = LR.predict(X_train)\n",
    "print(\"MAPE:\", mean_absolute_percentage_error(y_train, y_pred))\n",
    "print(\"MAE:\", mean_absolute_error(y_train, y_pred))\n",
    "print(\"RMSE:\", np.sqrt(mean_squared_error(y_train, y_pred)))\n",
    "#print(\"Test Score:\", LR.score(X_test_, y_test_))\n",
    "#y_pred_test = LR.predict(X_test_)\n",
    "#print(\"Test:\", mean_absolute_percentage_error(y_test_, y_pred_test))"
   ]
  },
  {
   "cell_type": "code",
   "execution_count": 1,
   "id": "908bc3fe",
   "metadata": {},
   "outputs": [],
   "source": [
    "import pandas as pd"
   ]
  },
  {
   "cell_type": "code",
   "execution_count": 2,
   "id": "4a80ac67",
   "metadata": {},
   "outputs": [],
   "source": [
    "train = pd.read_csv(\"train.csv\")"
   ]
  },
  {
   "cell_type": "code",
   "execution_count": 9,
   "id": "d8601d2e",
   "metadata": {
    "collapsed": true
   },
   "outputs": [
    {
     "name": "stdout",
     "output_type": "stream",
     "text": [
      "<class 'pandas.core.frame.DataFrame'>\n",
      "RangeIndex: 1460 entries, 0 to 1459\n",
      "Data columns (total 81 columns):\n",
      " #   Column         Non-Null Count  Dtype  \n",
      "---  ------         --------------  -----  \n",
      " 0   Id             1460 non-null   int64  \n",
      " 1   MSSubClass     1460 non-null   int64  \n",
      " 2   MSZoning       1460 non-null   object \n",
      " 3   LotFrontage    1201 non-null   float64\n",
      " 4   LotArea        1460 non-null   int64  \n",
      " 5   Street         1460 non-null   object \n",
      " 6   Alley          91 non-null     object \n",
      " 7   LotShape       1460 non-null   object \n",
      " 8   LandContour    1460 non-null   object \n",
      " 9   Utilities      1460 non-null   object \n",
      " 10  LotConfig      1460 non-null   object \n",
      " 11  LandSlope      1460 non-null   object \n",
      " 12  Neighborhood   1460 non-null   object \n",
      " 13  Condition1     1460 non-null   object \n",
      " 14  Condition2     1460 non-null   object \n",
      " 15  BldgType       1460 non-null   object \n",
      " 16  HouseStyle     1460 non-null   object \n",
      " 17  OverallQual    1460 non-null   int64  \n",
      " 18  OverallCond    1460 non-null   int64  \n",
      " 19  YearBuilt      1460 non-null   int64  \n",
      " 20  YearRemodAdd   1460 non-null   int64  \n",
      " 21  RoofStyle      1460 non-null   object \n",
      " 22  RoofMatl       1460 non-null   object \n",
      " 23  Exterior1st    1460 non-null   object \n",
      " 24  Exterior2nd    1460 non-null   object \n",
      " 25  MasVnrType     1452 non-null   object \n",
      " 26  MasVnrArea     1452 non-null   float64\n",
      " 27  ExterQual      1460 non-null   object \n",
      " 28  ExterCond      1460 non-null   object \n",
      " 29  Foundation     1460 non-null   object \n",
      " 30  BsmtQual       1423 non-null   object \n",
      " 31  BsmtCond       1423 non-null   object \n",
      " 32  BsmtExposure   1422 non-null   object \n",
      " 33  BsmtFinType1   1423 non-null   object \n",
      " 34  BsmtFinSF1     1460 non-null   int64  \n",
      " 35  BsmtFinType2   1422 non-null   object \n",
      " 36  BsmtFinSF2     1460 non-null   int64  \n",
      " 37  BsmtUnfSF      1460 non-null   int64  \n",
      " 38  TotalBsmtSF    1460 non-null   int64  \n",
      " 39  Heating        1460 non-null   object \n",
      " 40  HeatingQC      1460 non-null   object \n",
      " 41  CentralAir     1460 non-null   object \n",
      " 42  Electrical     1459 non-null   object \n",
      " 43  1stFlrSF       1460 non-null   int64  \n",
      " 44  2ndFlrSF       1460 non-null   int64  \n",
      " 45  LowQualFinSF   1460 non-null   int64  \n",
      " 46  GrLivArea      1460 non-null   int64  \n",
      " 47  BsmtFullBath   1460 non-null   int64  \n",
      " 48  BsmtHalfBath   1460 non-null   int64  \n",
      " 49  FullBath       1460 non-null   int64  \n",
      " 50  HalfBath       1460 non-null   int64  \n",
      " 51  BedroomAbvGr   1460 non-null   int64  \n",
      " 52  KitchenAbvGr   1460 non-null   int64  \n",
      " 53  KitchenQual    1460 non-null   object \n",
      " 54  TotRmsAbvGrd   1460 non-null   int64  \n",
      " 55  Functional     1460 non-null   object \n",
      " 56  Fireplaces     1460 non-null   int64  \n",
      " 57  FireplaceQu    770 non-null    object \n",
      " 58  GarageType     1379 non-null   object \n",
      " 59  GarageYrBlt    1379 non-null   float64\n",
      " 60  GarageFinish   1379 non-null   object \n",
      " 61  GarageCars     1460 non-null   int64  \n",
      " 62  GarageArea     1460 non-null   int64  \n",
      " 63  GarageQual     1379 non-null   object \n",
      " 64  GarageCond     1379 non-null   object \n",
      " 65  PavedDrive     1460 non-null   object \n",
      " 66  WoodDeckSF     1460 non-null   int64  \n",
      " 67  OpenPorchSF    1460 non-null   int64  \n",
      " 68  EnclosedPorch  1460 non-null   int64  \n",
      " 69  3SsnPorch      1460 non-null   int64  \n",
      " 70  ScreenPorch    1460 non-null   int64  \n",
      " 71  PoolArea       1460 non-null   int64  \n",
      " 72  PoolQC         7 non-null      object \n",
      " 73  Fence          281 non-null    object \n",
      " 74  MiscFeature    54 non-null     object \n",
      " 75  MiscVal        1460 non-null   int64  \n",
      " 76  MoSold         1460 non-null   int64  \n",
      " 77  YrSold         1460 non-null   int64  \n",
      " 78  SaleType       1460 non-null   object \n",
      " 79  SaleCondition  1460 non-null   object \n",
      " 80  SalePrice      1460 non-null   int64  \n",
      "dtypes: float64(3), int64(35), object(43)"
     ]
    }
   ],
   "source": [
    "info = train.info(memory_usage=False)"
   ]
  },
  {
   "cell_type": "code",
   "execution_count": 10,
   "id": "6ad77e5e",
   "metadata": {},
   "outputs": [],
   "source": [
    "info"
   ]
  },
  {
   "cell_type": "code",
   "execution_count": null,
   "id": "46c2ba34",
   "metadata": {},
   "outputs": [],
   "source": []
  },
  {
   "cell_type": "code",
   "execution_count": null,
   "id": "cdc558b2",
   "metadata": {},
   "outputs": [],
   "source": []
  }
 ],
 "metadata": {
  "kernelspec": {
   "display_name": "Python 3 (ipykernel)",
   "language": "python",
   "name": "python3"
  },
  "language_info": {
   "codemirror_mode": {
    "name": "ipython",
    "version": 3
   },
   "file_extension": ".py",
   "mimetype": "text/x-python",
   "name": "python",
   "nbconvert_exporter": "python",
   "pygments_lexer": "ipython3",
   "version": "3.9.13"
  }
 },
 "nbformat": 4,
 "nbformat_minor": 5
}
